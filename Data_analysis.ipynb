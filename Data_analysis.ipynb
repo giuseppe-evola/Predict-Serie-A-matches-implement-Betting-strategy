{
 "cells": [
  {
   "cell_type": "code",
   "execution_count": 64,
   "id": "6850f8ea-e8aa-4a6a-b41f-ef9732b2c9c8",
   "metadata": {},
   "outputs": [],
   "source": [
    "import pandas as pd\n",
    "from datetime import datetime\n",
    "import numpy as np\n",
    "import os\n",
    "import csv\n",
    "import seaborn as sns\n",
    "import matplotlib.pyplot as plt\n",
    "%matplotlib inline"
   ]
  },
  {
   "cell_type": "markdown",
   "id": "975d85d7-2523-4309-bee2-d34f39ae70c9",
   "metadata": {},
   "source": [
    "## What We Will Do\n",
    "\n",
    "- Data Analysis: Perform exploratory data analysis (EDA) to uncover relationships and patterns between the variables. To do so we will analyze the dataset separately."
   ]
  },
  {
   "cell_type": "markdown",
   "id": "905622e9-29f0-4537-a45a-f73c2ffcc1ad",
   "metadata": {},
   "source": [
    "Firstly, let's import both dataset and deleate the useless columns for each dataset"
   ]
  },
  {
   "cell_type": "code",
   "execution_count": 67,
   "id": "04dc18d2-830a-443e-ad89-b2cd93e43a92",
   "metadata": {},
   "outputs": [],
   "source": [
    "general_stats = pd.read_csv('data/GENERAL_STATS.csv')"
   ]
  },
  {
   "cell_type": "code",
   "execution_count": 68,
   "id": "1020623a-fedc-41c3-a982-2aa24915b920",
   "metadata": {},
   "outputs": [
    {
     "data": {
      "text/plain": [
       "Index(['Date', 'Season', 'HomeTeam', 'AwayTeam', 'FTHG', 'FTAG', 'FTR', 'HTGS',\n",
       "       'ATGS', 'HTGC', 'ATGC', 'HTP', 'ATP', 'B365H', 'B365D', 'B365A', 'MW',\n",
       "       'gameId', 'HTFormPts', 'ATFormPts', 'HTGD', 'ATGD', 'DiffPts',\n",
       "       'DiffFormPts'],\n",
       "      dtype='object')"
      ]
     },
     "execution_count": 68,
     "metadata": {},
     "output_type": "execute_result"
    }
   ],
   "source": [
    "general_stats.drop(['HTFormPtsStr', 'ATFormPtsStr'], axis=1, inplace=True)\n",
    "general_stats.columns"
   ]
  },
  {
   "cell_type": "code",
   "execution_count": 69,
   "id": "696809f5-e266-4196-af07-202453d297ed",
   "metadata": {},
   "outputs": [
    {
     "data": {
      "text/plain": [
       "(3117, 24)"
      ]
     },
     "execution_count": 69,
     "metadata": {},
     "output_type": "execute_result"
    }
   ],
   "source": [
    "general_stats.shape"
   ]
  },
  {
   "cell_type": "code",
   "execution_count": 70,
   "id": "03549c35-b2ea-4985-95c5-2ec83d77460c",
   "metadata": {},
   "outputs": [
    {
     "data": {
      "text/plain": [
       "Index(['Unnamed: 0', 'f_DateHome', 'f_SeasonHome', 'gameId', 'HomeTeam',\n",
       "       'homeGame_x', 'f_cornersAgainstHome', 'f_cornersForHome',\n",
       "       'f_freesAgainstHome', 'f_freesForHome', 'f_goalsAgainstHome',\n",
       "       'f_goalsForHome', 'f_halfTimeGoalsAgainstHome',\n",
       "       'f_halfTimeGoalsForHome', 'f_redsAgainstHome', 'f_redsForHome',\n",
       "       'f_shotsAgainstHome', 'f_shotsForHome', 'f_shotsOnTargetAgainstHome',\n",
       "       'f_shotsOnTargetForHome', 'f_yellowsAgainstHome', 'f_yellowsForHome',\n",
       "       'f_DateAway', 'f_SeasonAway', 'AwayTeam', 'homeGame_y',\n",
       "       'f_cornersAgainstAway', 'f_cornersForAway', 'f_freesAgainstAway',\n",
       "       'f_freesForAway', 'f_goalsAgainstAway', 'f_goalsForAway',\n",
       "       'f_halfTimeGoalsAgainstAway', 'f_halfTimeGoalsForAway',\n",
       "       'f_redsAgainstAway', 'f_redsForAway', 'f_shotsAgainstAway',\n",
       "       'f_shotsForAway', 'f_shotsOnTargetAgainstAway',\n",
       "       'f_shotsOnTargetForAway', 'f_yellowsAgainstAway', 'f_yellowsForAway'],\n",
       "      dtype='object')"
      ]
     },
     "execution_count": 70,
     "metadata": {},
     "output_type": "execute_result"
    }
   ],
   "source": [
    "ema_dataset = pd.read_csv(\"data/EMA_data.csv\")\n",
    "ema_dataset.columns"
   ]
  },
  {
   "cell_type": "code",
   "execution_count": 71,
   "id": "50e73c31-0af1-454c-a704-b52b146a929e",
   "metadata": {},
   "outputs": [
    {
     "data": {
      "text/plain": [
       "(3070, 42)"
      ]
     },
     "execution_count": 71,
     "metadata": {},
     "output_type": "execute_result"
    }
   ],
   "source": [
    "ema_dataset.shape"
   ]
  },
  {
   "cell_type": "code",
   "execution_count": 80,
   "id": "c2c7e7bd-86c9-4ae1-99b7-aa201c2b6532",
   "metadata": {},
   "outputs": [],
   "source": [
    "ema_dataset.drop(['Unnamed: 0'], axis =1, inplace=True)"
   ]
  },
  {
   "cell_type": "markdown",
   "id": "dfeeaa31-e4bf-4129-a3d6-a923da5bfe11",
   "metadata": {},
   "source": [
    "### Data analysis"
   ]
  },
  {
   "cell_type": "markdown",
   "id": "54623566-8716-4aef-a370-14225aec1a35",
   "metadata": {},
   "source": [
    "# Cominiciare da qua"
   ]
  },
  {
   "cell_type": "markdown",
   "id": "53a5f4ee-9205-4b8d-9a34-083678223ce4",
   "metadata": {},
   "source": [
    "hai a disposizione 2 dataset da cui puoi prendere i dati:\n",
    "- general_stats che è il datase con tutte le statistiche dibase riguardanti il risultato della partta, punti delle squadre fino a quel momento etch\n",
    "\n",
    "- ema_dataset: è il dataset inerente a tutte le variabili espresse in termini di media mobile esponenziale delle 50 partite precendenti al match che vedi nel dataframe.\n",
    "\n",
    "1. CONSIGLIO N1: ANALIZZA IL VANTAGGIO DI CASA\n",
    "2. FAI UNA VAR_COV MATRIX PER VEDERE QUALE FATTORE INFLUENZA è PIU CORRELATO CON LA VITTORIA O CON ALTRO\n",
    "3. CHIARAMENTE LE QUOTE DEL BOOKMAKER SARANNO CORRELATE, NON TENERLE IN CONSIDERAZIONE (1,X,2 di Bet365)\n",
    "   \n",
    "5. CHIEDI A CLAUDE O A CHAT GPT CHE TIPO DI ANALISI PUOI FARE  DATI I DATI CHE HAI. DAGLI IN PASTO SOLAMENTE IL NOME DELLE COLONNE (SPIEGANDOGLI SE SI TRATTA DI STATISTICHE GENERALI O DI EXP.MOVING AVERAGE DATA e CHIEDI CONSIGLIO)\n",
    "\n",
    "ISPIRAZIONE:\n",
    "1. https://github.com/betfair-datascientists/predictive-models/blob/master/epl/01.%20Data%20Acquisition%20%26%20Exploration.ipynb    (sia general_stats che ema_dataset)\n",
    "\n",
    "2. https://github.com/RudrakshTuwani/Football-Data-Analysis-and-Prediction\n",
    "\n",
    "\n",
    "### COMMENTA I PASSAGGI\n"
   ]
  },
  {
   "cell_type": "code",
   "execution_count": null,
   "id": "444ab73f-d038-4ed2-b351-2e18d2c0841b",
   "metadata": {},
   "outputs": [],
   "source": []
  }
 ],
 "metadata": {
  "kernelspec": {
   "display_name": "Python 3 (ipykernel)",
   "language": "python",
   "name": "python3"
  },
  "language_info": {
   "codemirror_mode": {
    "name": "ipython",
    "version": 3
   },
   "file_extension": ".py",
   "mimetype": "text/x-python",
   "name": "python",
   "nbconvert_exporter": "python",
   "pygments_lexer": "ipython3",
   "version": "3.12.4"
  }
 },
 "nbformat": 4,
 "nbformat_minor": 5
}
